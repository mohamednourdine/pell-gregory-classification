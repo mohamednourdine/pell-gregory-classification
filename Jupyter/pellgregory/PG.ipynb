{
 "cells": [
  {
   "cell_type": "code",
   "execution_count": 1,
   "id": "8c83f8fe",
   "metadata": {},
   "outputs": [],
   "source": [
    "import pandas as pd\n",
    "from sympy import symbols, Eq, solve"
   ]
  },
  {
   "cell_type": "code",
   "execution_count": 2,
   "id": "e83d54a8",
   "metadata": {},
   "outputs": [],
   "source": [
    "def calculate_y(x1, y1, x2, y2, x5):\n",
    "    m = (y2 - y1) / (x2 - x1)\n",
    "    \n",
    "    x, y = symbols('x y')\n",
    "    eq1 = Eq(y - y2 - (m * x - m * x2), 0)\n",
    "    eq2 = Eq(x - x5, 0)\n",
    "    \n",
    "    solution = solve([eq1, eq2], [x, y])\n",
    "    \n",
    "    return round(solution[y])"
   ]
  },
  {
   "cell_type": "code",
   "execution_count": 3,
   "id": "6c0f015b",
   "metadata": {},
   "outputs": [],
   "source": [
    "def process_data(input_filepath, output_filepath):\n",
    "    data = pd.read_excel(input_filepath)\n",
    "\n",
    "    for i in range(data.shape[0]):\n",
    "        x1, y1, x2, y2, x5 = data.loc[i, ['Column1', 'Column2', 'Column3', 'Column4', 'Column9']]\n",
    "\n",
    "        y = calculate_y(x1, y1, x2, y2, x5)\n",
    "        data.loc[i, 'Column2'] = y\n",
    "\n",
    "        x1, y1, x2, y2, x5 = data.loc[i, ['Column5', 'Column6', 'Column7', 'Column8', 'Column9']]\n",
    "\n",
    "        y = calculate_y(x1, y1, x2, y2, x5)\n",
    "        data.loc[i, 'Column3'] = y\n",
    "\n",
    "    data.to_excel(output_filepath, index=False)"
   ]
  },
  {
   "cell_type": "code",
   "execution_count": 5,
   "id": "81e5c148",
   "metadata": {},
   "outputs": [],
   "source": [
    "if __name__ == \"__main__\":\n",
    "    input_file = \"data/data_47_48.xlsx\"\n",
    "    output_file = \"data/Y5_47_48_sonuc.xlsx\"\n",
    "\n",
    "    process_data(input_file, output_file)"
   ]
  }
 ],
 "metadata": {
  "kernelspec": {
   "display_name": "Python 3 (ipykernel)",
   "language": "python",
   "name": "python3"
  },
  "language_info": {
   "codemirror_mode": {
    "name": "ipython",
    "version": 3
   },
   "file_extension": ".py",
   "mimetype": "text/x-python",
   "name": "python",
   "nbconvert_exporter": "python",
   "pygments_lexer": "ipython3",
   "version": "3.11.5"
  }
 },
 "nbformat": 4,
 "nbformat_minor": 5
}
