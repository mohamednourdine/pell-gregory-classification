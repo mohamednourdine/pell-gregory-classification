{
 "cells": [
  {
   "cell_type": "code",
   "execution_count": 2,
   "id": "da6ab349",
   "metadata": {},
   "outputs": [],
   "source": [
    "import os;"
   ]
  },
  {
   "cell_type": "code",
   "execution_count": 15,
   "id": "04bd5134",
   "metadata": {},
   "outputs": [
    {
     "name": "stdout",
     "output_type": "stream",
     "text": [
      "Image without annotation: 904-k-39.png\n",
      "Image without annotation: 971-e.png\n",
      "Image without annotation: son-26.png\n",
      "Image without annotation: 976-e-29.png\n",
      "Image without annotation: 969-e-30.png\n",
      "Image without annotation: 940-k-22.png\n",
      "Image without annotation: 960-e-31.png\n",
      "Image without annotation: son-29.png\n",
      "Image without annotation: 358-k-20.png\n",
      "Image without annotation: 111-k-48.png\n",
      "Image without annotation: 911-k-30.png\n",
      "Image without annotation: 33-e-27.png\n",
      "Image without annotation: 918-k-45.png\n",
      "Image without annotation: 950-k-26.png\n",
      "Image without annotation: 914-e-39.png\n",
      "Image without annotation: 925-k-25.png\n",
      "Image without annotation: 886-k-23.png\n",
      "Image without annotation: 926-e-64.png\n",
      "Image without annotation: 201-k-35.png\n",
      "Image without annotation: 910-k-38.png\n",
      "Image without annotation: son-34.png\n",
      "Image without annotation: 931-e-47.png\n",
      "Image without annotation: 974-e-29.png\n",
      "Image without annotation: 913-k-22.png\n",
      "Image without annotation: 929-k-22.png\n",
      "Image without annotation: 908-k-51.png\n",
      "Image without annotation: 978-k-21.png\n",
      "Image without annotation: 947-e-31.png\n",
      "Image without annotation: 963-e-46.png\n",
      "Image without annotation: 916-k-52.png\n",
      "Image without annotation: 975-e-30.png\n",
      "Image without annotation: 953-e-24.png\n",
      "Image without annotation: 27-k.png\n",
      "Image without annotation: 919-e-48.png\n",
      "Image without annotation: 921-k-22.png\n",
      "Image without annotation: 928-e-22.png\n",
      "Image without annotation: 526573-k.png\n",
      "Image without annotation: 231-503-e.png\n",
      "Image without annotation: 942-k-43.png\n",
      "Image without annotation: 923-e-19.png\n",
      "Image without annotation: 907-k-36.png\n",
      "Image without annotation: 903-e-25.png\n",
      "Image without annotation: 927-k-18.png\n",
      "Image without annotation: 17-k-27.png\n",
      "Image without annotation: 920-e-27.png\n",
      "Image without annotation: son-30.png\n",
      "Image without annotation: 9-k-20.png\n",
      "Image without annotation: 959-k-58.png\n",
      "Image without annotation: 831-k-24.png\n",
      "Image without annotation: 906-k-21.png\n",
      "Image without annotation: 401-e-22.png\n",
      "Image without annotation: 922-e-48.png\n",
      "Image without annotation: 90-k.png\n",
      "Image without annotation: 136-k.png\n",
      "Image without annotation: 496664.png\n",
      "Image without annotation: 957-e-19.png\n",
      "Image without annotation: 912-k-46.png\n",
      "Image without annotation: 951-e-43.png\n",
      "Image without annotation: 965-k-32.png\n",
      "Image without annotation: 770-k-23.png\n",
      "Image without annotation: 933-e-66.png\n",
      "Image without annotation: 946-k-16.png\n",
      "Image without annotation: 398327-e.png\n",
      "Image without annotation: 924-k-20.png\n",
      "Image without annotation: 162-k.png\n",
      "Image without annotation: 938-k-21.png\n",
      "Image without annotation: 199-k-45.png\n",
      "Image without annotation: 653-e-24.png\n",
      "Image without annotation: 909-k-23.png\n",
      "Image without annotation: 961-k-25.png\n",
      "Image without annotation: 917-k-22.png\n",
      "Image without annotation: son-146.png\n",
      "Image without annotation: 962-e-29.png\n",
      "Image without annotation: 623-e-28.png\n",
      "Image without annotation: 932-k-34.png\n",
      "Image without annotation: 565-k-22.png\n",
      "Image without annotation: 62-e-24.png\n",
      "Image without annotation: 370-e-24.png\n",
      "Image without annotation: 902-k-31.png\n",
      "Image without annotation: 915-e-46.png\n",
      "Image without annotation: 955-e-41.png\n",
      "Image without annotation: 970-e-20.png\n",
      "Image without annotation: 33-5560.png\n",
      "Image without annotation: 1224-23-e.png\n",
      "Image without annotation: 956-k-19.png\n",
      "Image without annotation: 385-e-29.png\n",
      "Image without annotation: 967-k-22.png\n",
      "Image without annotation: 935-e-17.png\n",
      "Image without annotation: 972-k-27.png\n",
      "Image without annotation: 139-140-e.png\n",
      "Image without annotation: 900-k-24.png\n",
      "Image without annotation: 968-k-27.png\n",
      "Image without annotation: 966-k-32.png\n",
      "Image without annotation: 383-k-20.png\n",
      "Image without annotation: 952-e-19.png\n",
      "Image without annotation: 943-k-23.png\n",
      "Image without annotation: 977-k-20.png\n",
      "Image without annotation: 937-k-21.png\n",
      "Image without annotation: son-83.png\n",
      "Image without annotation: 229-k-41.png\n",
      "Image without annotation: 949-k-44.png\n",
      "Image without annotation: 948-e-37.png\n",
      "Image without annotation: 901-k-20.png\n",
      "Image without annotation: 905-k-20.png\n",
      "Image without annotation: 936-k-42.png\n",
      "Image without annotation: 941-k-30.png\n",
      "Image without annotation: 366-k-31.png\n",
      "Image without annotation: 945-k-35.png\n",
      "Image without annotation: 954-k-26.png\n",
      "Image without annotation: 1936-27-e.png\n",
      "Image without annotation: 191-k-59.png\n",
      "Image without annotation: 934-k-21.png\n",
      "Image without annotation: 939-k-20.png\n",
      "Image without annotation: son-92.png\n",
      "Image without annotation: 346-e-26.png\n",
      "Image without annotation: 454-k-19.png\n",
      "Image without annotation: 77-k-4.png\n",
      "Image without annotation: 944-k-18.png\n",
      "Image without annotation: 165-k-48.png\n",
      "Image without annotation: 402-k-46.png\n",
      "Image without annotation: 958-k-23.png\n",
      "Image without annotation: 166-21-k.png\n"
     ]
    }
   ],
   "source": [
    "# Path to the directory containing image files\n",
    "image_dir = '../data/dataset/resized/images/images'\n",
    "\n",
    "# Path to the directory containing annotation files\n",
    "annotation_dir = '../data/dataset/resized/annotations/37-38-WINTER'\n",
    "\n",
    "\n",
    "\n",
    "# Get a list of all image files in the image directory\n",
    "image_files = [f for f in os.listdir(image_dir) if f.endswith('.png')]\n",
    "\n",
    "# Get a list of all annotation files in the annotation directory\n",
    "annotation_files = [f for f in os.listdir(annotation_dir) if f.endswith('.txt')]\n",
    "\n",
    "# Extract the base names (without extensions) from both lists\n",
    "image_base_names = [os.path.splitext(f)[0] for f in image_files]\n",
    "annotation_base_names = [os.path.splitext(f)[0] for f in annotation_files]\n",
    "\n",
    "# Find images without corresponding annotation files\n",
    "images_without_annotations = [img for img in image_base_names if img not in annotation_base_names]\n",
    "\n",
    "# Print the list of images without annotations\n",
    "for img_name in images_without_annotations:\n",
    "    print(f\"Image without annotation: {img_name}.png\")"
   ]
  },
  {
   "cell_type": "code",
   "execution_count": 16,
   "id": "4bfa046b",
   "metadata": {},
   "outputs": [
    {
     "name": "stdout",
     "output_type": "stream",
     "text": [
      "Number of images without annotations: 122\n"
     ]
    }
   ],
   "source": [
    "print(f\"Number of images without annotations: {len(images_without_annotations)}\")"
   ]
  },
  {
   "cell_type": "code",
   "execution_count": 17,
   "id": "5b51ecb3",
   "metadata": {},
   "outputs": [],
   "source": [
    "# Get a list of all image files in the image directory\n",
    "image_files = [f for f in os.listdir(image_dir) if f.endswith('.png')]\n",
    "\n",
    "# Get a list of all annotation files in the annotation directory\n",
    "annotation_files = [f for f in os.listdir(annotation_dir) if f.endswith('.txt')]\n",
    "\n",
    "# Extract the base names (without extensions) from both lists\n",
    "image_base_names = [os.path.splitext(f)[0] for f in image_files]\n",
    "annotation_base_names = [os.path.splitext(f)[0] for f in annotation_files]\n",
    "\n",
    "# Find annotations without corresponding image files\n",
    "annotations_without_images = [ann for ann in annotation_base_names if ann not in image_base_names]\n",
    "\n",
    "# Print the list of annotations without images\n",
    "for ann_name in annotations_without_images:\n",
    "    print(f\"Annotation without image: {ann_name}.txt\")"
   ]
  },
  {
   "cell_type": "code",
   "execution_count": 18,
   "id": "6a6b2672",
   "metadata": {},
   "outputs": [
    {
     "name": "stdout",
     "output_type": "stream",
     "text": [
      "Number of images without annotations: 0\n"
     ]
    }
   ],
   "source": [
    "print(f\"Number of images without annotations: {len(annotations_without_images)}\")"
   ]
  },
  {
   "cell_type": "code",
   "execution_count": null,
   "id": "2d6a0140",
   "metadata": {},
   "outputs": [],
   "source": []
  }
 ],
 "metadata": {
  "kernelspec": {
   "display_name": "Python 3 (ipykernel)",
   "language": "python",
   "name": "python3"
  },
  "language_info": {
   "codemirror_mode": {
    "name": "ipython",
    "version": 3
   },
   "file_extension": ".py",
   "mimetype": "text/x-python",
   "name": "python",
   "nbconvert_exporter": "python",
   "pygments_lexer": "ipython3",
   "version": "3.11.5"
  }
 },
 "nbformat": 4,
 "nbformat_minor": 5
}
