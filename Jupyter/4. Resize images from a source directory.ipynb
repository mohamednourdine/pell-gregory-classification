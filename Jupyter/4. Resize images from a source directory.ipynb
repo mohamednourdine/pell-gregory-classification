{
 "cells": [
  {
   "cell_type": "code",
   "execution_count": 1,
   "id": "2a78bc5b",
   "metadata": {},
   "outputs": [],
   "source": [
    "import os\n",
    "import cv2\n",
    "from PIL import Image  # Import the Image module from PIL"
   ]
  },
  {
   "cell_type": "code",
   "execution_count": 3,
   "id": "7d818efd",
   "metadata": {},
   "outputs": [],
   "source": [
    "def resize_images(source_dir, target_dir, target_size=(1100, 600)):\n",
    "    \"\"\"\n",
    "    Resize images from a source directory to a target size and save them to a target directory.\n",
    "\n",
    "    Parameters:\n",
    "        source_dir (str): Path to the source directory containing images.\n",
    "        target_dir (str): Path to the target directory where resized images will be saved.\n",
    "        target_size (tuple): Target size as (width, height) in pixels. Default is (256, 256).\n",
    "    \"\"\"\n",
    "    # Ensure the target directory exists\n",
    "    os.makedirs(target_dir, exist_ok=True)\n",
    "\n",
    "    # List all files in the source directory\n",
    "    file_list = os.listdir(source_dir)\n",
    "\n",
    "    for filename in file_list:\n",
    "        if filename.endswith(('.jpg', '.png', '.bmp')):  # Modify extensions as needed\n",
    "            # Read the image from the source directory\n",
    "            image_path = os.path.join(source_dir, filename)\n",
    "            img = cv2.imread(image_path)\n",
    "\n",
    "            # Resize the image to the target size\n",
    "            resized_img = cv2.resize(img, target_size)\n",
    "\n",
    "            # Save the resized image to the target directory\n",
    "            target_path = os.path.join(target_dir, filename)\n",
    "            cv2.imwrite(target_path, resized_img)"
   ]
  },
  {
   "cell_type": "code",
   "execution_count": 4,
   "id": "606b99fe",
   "metadata": {},
   "outputs": [],
   "source": [
    "# Biring all the images to the same height usage:\n",
    "source_directory = '../data/dataset/images/png/images'  # Replace with your source image directory\n",
    "target_directory = '../data/dataset/resized/images'  # Replace with your target directory\n",
    "resize_images(source_directory, target_directory)"
   ]
  },
  {
   "cell_type": "code",
   "execution_count": 5,
   "id": "150ea5bd",
   "metadata": {},
   "outputs": [],
   "source": [
    "#create training images now\n",
    "source_directory = '../data/dataset/resized/images'  # Replace with your source image directory\n",
    "target_directory = '../data/dataset/resized/256x256'  # Replace with your target directory\n",
    "resize_images(source_directory, target_directory, (256, 256))"
   ]
  },
  {
   "cell_type": "code",
   "execution_count": 66,
   "id": "f9123cb5",
   "metadata": {},
   "outputs": [],
   "source": [
    "# Specify the original images folder\n",
    "original_images_folder = '../data/dataset/images/png/images'\n",
    "\n",
    "# Specify the input folder containing the text files\n",
    "input_folder = '../data/dataset/annotations/47-48-PELLGREGORY'\n",
    "\n",
    "# Specify the output folder where you want to save the resized coordinates\n",
    "output_folder = '../data/dataset/resized/annotations/47-48-PELLGREGORY'\n",
    "\n",
    "# Create the output directory if it doesn't exist\n",
    "os.makedirs(output_folder, exist_ok=True)\n",
    "\n",
    "resized_width = 1100\n",
    "resized_height = 600"
   ]
  },
  {
   "cell_type": "code",
   "execution_count": 67,
   "id": "d3a575bd",
   "metadata": {},
   "outputs": [],
   "source": [
    "# Ensure the output folder exists\n",
    "os.makedirs(output_folder, exist_ok=True)\n"
   ]
  },
  {
   "cell_type": "code",
   "execution_count": 68,
   "id": "be73f1bc",
   "metadata": {},
   "outputs": [],
   "source": [
    "# Function to get the image dimensions\n",
    "def get_image_dimensions(image_path):\n",
    "    with Image.open(image_path) as img:\n",
    "        return img.size"
   ]
  },
  {
   "cell_type": "code",
   "execution_count": 69,
   "id": "b60a18f8",
   "metadata": {},
   "outputs": [
    {
     "name": "stdout",
     "output_type": "stream",
     "text": [
      "Image '1165-k-48.png' not found in the original images folder.\n",
      "Image '11977-e.png' not found in the original images folder.\n",
      "Image '392-e-32.png' not found in the original images folder.\n",
      "Coordinates resized and saved to the output folder.\n"
     ]
    }
   ],
   "source": [
    "# Loop through the text files in the input folder\n",
    "for filename in os.listdir(input_folder):\n",
    "    if filename.lower().endswith(\".txt\"):\n",
    "        image_name = os.path.splitext(filename)[0]\n",
    "        image_path = os.path.join(original_images_folder, f\"{image_name}.png\")\n",
    "\n",
    "        if os.path.exists(image_path):\n",
    "            original_width, original_height = get_image_dimensions(image_path)\n",
    "\n",
    "            with open(os.path.join(input_folder, filename), \"r\") as file:\n",
    "                lines = file.readlines()\n",
    "\n",
    "            # Initialize an empty list to store the resized coordinates\n",
    "            resized_coordinates = []\n",
    "\n",
    "            # Loop through the original coordinates and resize them\n",
    "            for line in lines:\n",
    "                x, y = map(int, line.strip().split(\",\"))\n",
    "                new_x = int(x * (resized_width / original_width))\n",
    "                new_y = int(y * (resized_height / original_height))\n",
    "                resized_coordinates.append(f\"{new_x},{new_y}\")\n",
    "\n",
    "            # Save the resized coordinates to a new text file with the same name\n",
    "            output_filename = os.path.join(output_folder, filename)\n",
    "            with open(output_filename, \"w\") as output_file:\n",
    "                output_file.write(\"\\n\".join(resized_coordinates))\n",
    "\n",
    "        else:\n",
    "            print(f\"Image '{image_name}.png' not found in the original images folder.\")\n",
    "\n",
    "print(\"Coordinates resized and saved to the output folder.\")"
   ]
  },
  {
   "cell_type": "code",
   "execution_count": null,
   "id": "4edae950",
   "metadata": {},
   "outputs": [],
   "source": []
  }
 ],
 "metadata": {
  "kernelspec": {
   "display_name": "Python 3 (ipykernel)",
   "language": "python",
   "name": "python3"
  },
  "language_info": {
   "codemirror_mode": {
    "name": "ipython",
    "version": 3
   },
   "file_extension": ".py",
   "mimetype": "text/x-python",
   "name": "python",
   "nbconvert_exporter": "python",
   "pygments_lexer": "ipython3",
   "version": "3.11.5"
  }
 },
 "nbformat": 4,
 "nbformat_minor": 5
}
