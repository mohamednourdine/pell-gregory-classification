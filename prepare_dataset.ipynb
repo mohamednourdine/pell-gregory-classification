{
 "cells": [
  {
   "cell_type": "code",
   "execution_count": 1,
   "metadata": {},
   "outputs": [
    {
     "name": "stderr",
     "output_type": "stream",
     "text": [
      "In C:\\Users\\Flayiva_01\\anaconda3\\envs\\pytorchenv\\lib\\site-packages\\matplotlib\\mpl-data\\stylelib\\_classic_test.mplstyle: \n",
      "The savefig.frameon rcparam was deprecated in Matplotlib 3.1 and will be removed in 3.3.\n",
      "In C:\\Users\\Flayiva_01\\anaconda3\\envs\\pytorchenv\\lib\\site-packages\\matplotlib\\mpl-data\\stylelib\\_classic_test.mplstyle: \n",
      "The verbose.level rcparam was deprecated in Matplotlib 3.1 and will be removed in 3.3.\n",
      "In C:\\Users\\Flayiva_01\\anaconda3\\envs\\pytorchenv\\lib\\site-packages\\matplotlib\\mpl-data\\stylelib\\_classic_test.mplstyle: \n",
      "The verbose.fileo rcparam was deprecated in Matplotlib 3.1 and will be removed in 3.3.\n"
     ]
    }
   ],
   "source": [
    "%reload_ext autoreload\n",
    "%autoreload 2\n",
    "%matplotlib inline"
   ]
  },
  {
   "cell_type": "code",
   "execution_count": 2,
   "metadata": {},
   "outputs": [],
   "source": [
    "import torch\n",
    "from torch import nn, optim\n",
    "from torch.nn import functional as F\n",
    "from torch.utils.data import Dataset, DataLoader\n",
    "from torchvision import transforms\n",
    "# from torchsummary import summary\n",
    "\n",
    "from scipy import ndimage\n",
    "import numpy as np\n",
    "import PIL\n",
    "import shutil\n",
    "from pathlib import Path\n",
    "from concurrent.futures import ThreadPoolExecutor\n",
    "\n",
    "from utilities.common_utils import *\n",
    "from utilities.landmark_utils import *\n",
    "from utilities.plotting import *\n",
    "#from models import ResUNet, UNet"
   ]
  },
  {
   "cell_type": "markdown",
   "metadata": {},
   "source": [
    "\n",
    "## Get dataset\n",
    "We will use the 'A Grand Challenge for Automated Detection of Anatomical Landmarks and Analysis for Diagnosis in Cephalometric X-ray Image' dataset, see  http://www-o.ntust.edu.tw/~cweiwang/ISBI2015/challenge1/index.html"
   ]
  },
  {
   "cell_type": "markdown",
   "metadata": {},
   "source": [
    "Download 'A Grand Challenge for Automated Detection of Anatomical Landmarks and Analysis for Diagnosis in Cephalometric X-ray Image\n",
    "data, see  http://www-o.ntust.edu.tw/~cweiwang/ISBI2015/challenge1/index.html"
   ]
  },
  {
   "cell_type": "code",
   "execution_count": 3,
   "metadata": {},
   "outputs": [],
   "source": [
    "path = Path('./data'); path.mkdir(exist_ok=True)"
   ]
  },
  {
   "cell_type": "code",
   "execution_count": 4,
   "metadata": {},
   "outputs": [
    {
     "data": {
      "text/plain": [
       "WindowsPath('data')"
      ]
     },
     "execution_count": 4,
     "metadata": {},
     "output_type": "execute_result"
    }
   ],
   "source": [
    "path"
   ]
  },
  {
   "cell_type": "markdown",
   "metadata": {},
   "source": [
    "### Download"
   ]
  },
  {
   "cell_type": "code",
   "execution_count": null,
   "metadata": {},
   "outputs": [],
   "source": [
    "URL = 'https://ndownloader.figshare.com/articles/3471833?private_link=37ec464af8e81ae6ebbf'\n",
    "!cd {path}\n",
    "!curl -o {path}/dataset.zip {URL}"
   ]
  },
  {
   "cell_type": "markdown",
   "metadata": {},
   "source": [
    "### Unpack"
   ]
  },
  {
   "cell_type": "code",
   "execution_count": null,
   "metadata": {},
   "outputs": [],
   "source": [
    "!unzip -d {path} {path}/dataset.zip"
   ]
  },
  {
   "cell_type": "code",
   "execution_count": null,
   "metadata": {},
   "outputs": [],
   "source": [
    "!unar -q -f -o {path} {path}/AnnotationsByMD.rar\n",
    "!unar -q -f -o {path} {path}/EvaluationCode.rar\n",
    "!unar -q -f -o {path} {path}/RawImage.rar"
   ]
  },
  {
   "cell_type": "markdown",
   "metadata": {},
   "source": [
    "### Create subsampled training and test datasets"
   ]
  },
  {
   "cell_type": "code",
   "execution_count": 5,
   "metadata": {},
   "outputs": [],
   "source": [
    "test1_orig_path = path/'RawImage/Test1Data'\n",
    "test2_orig_path = path/'RawImage/Test2Data'\n",
    "train_orig_path =  path/'RawImage/TrainingData'\n",
    "\n",
    "IMAGE_SIZE = 256"
   ]
  },
  {
   "cell_type": "code",
   "execution_count": 7,
   "metadata": {},
   "outputs": [
    {
     "data": {
      "text/plain": [
       "WindowsPath('data/RawImage/Test1Data')"
      ]
     },
     "execution_count": 7,
     "metadata": {},
     "output_type": "execute_result"
    }
   ],
   "source": [
    "test1_orig_path"
   ]
  },
  {
   "cell_type": "code",
   "execution_count": 8,
   "metadata": {},
   "outputs": [],
   "source": [
    "def resize(fpath, img_size, resized_dir):\n",
    "    PIL.Image.open(fpath).resize((img_size, img_size)).save(resized_dir/fpath.name)"
   ]
  },
  {
   "cell_type": "markdown",
   "metadata": {},
   "source": [
    "Resize test images"
   ]
  },
  {
   "cell_type": "code",
   "execution_count": 16,
   "metadata": {},
   "outputs": [],
   "source": [
    "test_path = path/f'images/raw/{IMAGE_SIZE}/test1'; test_path.mkdir(parents=True, exist_ok=True)\n",
    "l_resize = lambda fpath : resize(fpath, IMAGE_SIZE, test_path)\n",
    "with ThreadPoolExecutor(16) as e: e.map(l_resize, list_files(test1_orig_path))"
   ]
  },
  {
   "cell_type": "code",
   "execution_count": 5,
   "metadata": {},
   "outputs": [],
   "source": [
    "test_path = path/f'images/raw/{IMAGE_SIZE}/test2'; test_path.mkdir(parents=True, exist_ok=True)\n",
    "l_resize = lambda fpath : resize(fpath, IMAGE_SIZE, test_path)\n",
    "with ThreadPoolExecutor(16) as e: e.map(l_resize, list_files(test2_orig_path))"
   ]
  },
  {
   "cell_type": "code",
   "execution_count": 6,
   "metadata": {},
   "outputs": [
    {
     "data": {
      "text/plain": [
       "WindowsPath('data/images/raw/256/test2')"
      ]
     },
     "execution_count": 6,
     "metadata": {},
     "output_type": "execute_result"
    }
   ],
   "source": [
    "test_path"
   ]
  },
  {
   "cell_type": "markdown",
   "metadata": {},
   "source": [
    "Resize train images"
   ]
  },
  {
   "cell_type": "code",
   "execution_count": 19,
   "metadata": {},
   "outputs": [],
   "source": [
    "train_path = path/f'images/raw/{IMAGE_SIZE}/train'; train_path.mkdir(exist_ok=True) \n",
    "l_resize = lambda fpath : resize(fpath, IMAGE_SIZE, train_path)\n",
    "with ThreadPoolExecutor(16) as e: e.map(l_resize, list_files(train_orig_path))"
   ]
  },
  {
   "cell_type": "code",
   "execution_count": 23,
   "metadata": {},
   "outputs": [
    {
     "data": {
      "text/plain": [
       "PosixPath('data/images/256/train')"
      ]
     },
     "execution_count": 23,
     "metadata": {},
     "output_type": "execute_result"
    }
   ],
   "source": [
    "train_path"
   ]
  },
  {
   "cell_type": "code",
   "execution_count": null,
   "metadata": {},
   "outputs": [],
   "source": []
  }
 ],
 "metadata": {
  "kernelspec": {
   "display_name": "Python 3",
   "language": "python",
   "name": "python3"
  },
  "language_info": {
   "codemirror_mode": {
    "name": "ipython",
    "version": 3
   },
   "file_extension": ".py",
   "mimetype": "text/x-python",
   "name": "python",
   "nbconvert_exporter": "python",
   "pygments_lexer": "ipython3",
   "version": "3.7.3"
  }
 },
 "nbformat": 4,
 "nbformat_minor": 4
}
