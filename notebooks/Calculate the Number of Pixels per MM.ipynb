{
 "cells": [
  {
   "cell_type": "code",
   "execution_count": 3,
   "id": "11b15b72",
   "metadata": {},
   "outputs": [
    {
     "name": "stdout",
     "output_type": "stream",
     "text": [
      "PIXELS_PER_MM_X: 6.1111 pixels/mm\n",
      "PIXELS_PER_MM_Y: 5.0000 pixels/mm\n"
     ]
    }
   ],
   "source": [
    "ORIG_IMAGE_X = 1100\n",
    "ORIG_IMAGE_Y = 600\n",
    "\n",
    "# Assuming you have the dimensions of the image in millimeters\n",
    "IMAGE_SIZE_X_MM = 180  # Replace with the actual size in millimeters\n",
    "IMAGE_SIZE_Y_MM = 120  # Replace with the actual size in millimeters\n",
    "\n",
    "# Calculate PIXELS_PER_MM_X and PIXELS_PER_MM_Y\n",
    "PIXELS_PER_MM_X = ORIG_IMAGE_X / IMAGE_SIZE_X_MM\n",
    "PIXELS_PER_MM_Y = ORIG_IMAGE_Y / IMAGE_SIZE_Y_MM\n",
    "\n",
    "# Print the results\n",
    "print(f'PIXELS_PER_MM_X: {PIXELS_PER_MM_X:.4f} pixels/mm')\n",
    "print(f'PIXELS_PER_MM_Y: {PIXELS_PER_MM_Y:.4f} pixels/mm')\n"
   ]
  },
  {
   "cell_type": "code",
   "execution_count": null,
   "id": "57e98745",
   "metadata": {},
   "outputs": [],
   "source": []
  }
 ],
 "metadata": {
  "kernelspec": {
   "display_name": "Python 3 (ipykernel)",
   "language": "python",
   "name": "python3"
  },
  "language_info": {
   "codemirror_mode": {
    "name": "ipython",
    "version": 3
   },
   "file_extension": ".py",
   "mimetype": "text/x-python",
   "name": "python",
   "nbconvert_exporter": "python",
   "pygments_lexer": "ipython3",
   "version": "3.11.5"
  }
 },
 "nbformat": 4,
 "nbformat_minor": 5
}
