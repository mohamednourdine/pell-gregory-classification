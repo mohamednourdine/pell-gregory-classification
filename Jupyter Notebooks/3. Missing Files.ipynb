{
 "cells": [
  {
   "cell_type": "code",
   "execution_count": 14,
   "id": "da6ab349",
   "metadata": {},
   "outputs": [],
   "source": [
    "import os;"
   ]
  },
  {
   "cell_type": "code",
   "execution_count": 20,
   "id": "04bd5134",
   "metadata": {},
   "outputs": [],
   "source": [
    "# Path to the directory containing image files\n",
    "image_dir = '../data/final-data/resized/images/5noktapellgregory37-38'\n",
    "\n",
    "# Path to the directory containing annotation files\n",
    "annotation_dir = '../data/final-data/resized/annotations/5noktapellgregory37-38'\n",
    "\n",
    "\n",
    "\n",
    "# Get a list of all image files in the image directory\n",
    "image_files = [f for f in os.listdir(image_dir) if f.endswith('.png')]\n",
    "\n",
    "# Get a list of all annotation files in the annotation directory\n",
    "annotation_files = [f for f in os.listdir(annotation_dir) if f.endswith('.txt')]\n",
    "\n",
    "# Extract the base names (without extensions) from both lists\n",
    "image_base_names = [os.path.splitext(f)[0] for f in image_files]\n",
    "annotation_base_names = [os.path.splitext(f)[0] for f in annotation_files]\n",
    "\n",
    "# Find images without corresponding annotation files\n",
    "images_without_annotations = [img for img in image_base_names if img not in annotation_base_names]\n",
    "\n",
    "# Print the list of images without annotations\n",
    "for img_name in images_without_annotations:\n",
    "    print(f\"Image without annotation: {img_name}.png\")"
   ]
  },
  {
   "cell_type": "code",
   "execution_count": 21,
   "id": "4bfa046b",
   "metadata": {},
   "outputs": [
    {
     "name": "stdout",
     "output_type": "stream",
     "text": [
      "Number of images without annotations: 0\n"
     ]
    }
   ],
   "source": [
    "print(f\"Number of images without annotations: {len(images_without_annotations)}\")"
   ]
  },
  {
   "cell_type": "code",
   "execution_count": 22,
   "id": "5b51ecb3",
   "metadata": {},
   "outputs": [],
   "source": [
    "# Get a list of all image files in the image directory\n",
    "image_files = [f for f in os.listdir(image_dir) if f.endswith('.png')]\n",
    "\n",
    "# Get a list of all annotation files in the annotation directory\n",
    "annotation_files = [f for f in os.listdir(annotation_dir) if f.endswith('.txt')]\n",
    "\n",
    "# Extract the base names (without extensions) from both lists\n",
    "image_base_names = [os.path.splitext(f)[0] for f in image_files]\n",
    "annotation_base_names = [os.path.splitext(f)[0] for f in annotation_files]\n",
    "\n",
    "# Find annotations without corresponding image files\n",
    "annotations_without_images = [ann for ann in annotation_base_names if ann not in image_base_names]\n",
    "\n",
    "# Print the list of annotations without images\n",
    "for ann_name in annotations_without_images:\n",
    "    print(f\"Annotation without image: {ann_name}.txt\")"
   ]
  },
  {
   "cell_type": "code",
   "execution_count": 23,
   "id": "6a6b2672",
   "metadata": {},
   "outputs": [
    {
     "name": "stdout",
     "output_type": "stream",
     "text": [
      "Number of images without annotations: 0\n"
     ]
    }
   ],
   "source": [
    "print(f\"Number of images without annotations: {len(annotations_without_images)}\")"
   ]
  },
  {
   "cell_type": "code",
   "execution_count": null,
   "id": "2d6a0140",
   "metadata": {},
   "outputs": [],
   "source": []
  }
 ],
 "metadata": {
  "kernelspec": {
   "display_name": "Python 3 (ipykernel)",
   "language": "python",
   "name": "python3"
  },
  "language_info": {
   "codemirror_mode": {
    "name": "ipython",
    "version": 3
   },
   "file_extension": ".py",
   "mimetype": "text/x-python",
   "name": "python",
   "nbconvert_exporter": "python",
   "pygments_lexer": "ipython3",
   "version": "3.11.5"
  }
 },
 "nbformat": 4,
 "nbformat_minor": 5
}
